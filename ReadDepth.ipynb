{
 "cells": [
  {
   "cell_type": "code",
   "execution_count": 102,
   "id": "20fc8444",
   "metadata": {},
   "outputs": [],
   "source": [
    "import pysam\n",
    "import pandas as pd\n",
    "from tqdm import tqdm\n",
    "import pandas as pd\n",
    "import numpy as np"
   ]
  },
  {
   "cell_type": "code",
   "execution_count": 60,
   "id": "ea7e10e2",
   "metadata": {},
   "outputs": [],
   "source": [
    "SF = pysam.Samfile(\"data/rd/SRR.sam\", \"rb\")"
   ]
  },
  {
   "cell_type": "code",
   "execution_count": 67,
   "id": "eb086192",
   "metadata": {},
   "outputs": [],
   "source": [
    "n_skip=0\n",
    "len_chr={}\n",
    "with open(\"data/rd/SRR.sam\", 'r') as f:\n",
    "    for line in f:\n",
    "        l = line.replace('\\n', '').split('\\t')\n",
    "        sn = l[1].replace('SN:', '')\n",
    "        ln = l[2].replace('LN:', '')\n",
    "        len_chr[sn] = ln\n",
    "        if line[:1] == '@':\n",
    "            n_skip+=1\n",
    "        else:\n",
    "            break"
   ]
  },
  {
   "cell_type": "code",
   "execution_count": 66,
   "id": "6447176b",
   "metadata": {},
   "outputs": [],
   "source": [
    "sam_list = []\n",
    "for sam in SF.fetch():\n",
    "    sam_list.append([SF.getrname(sam.rname), sam.qname, sam.flag, sam.pos, sam.cigar, sam.seq])"
   ]
  },
  {
   "cell_type": "code",
   "execution_count": 68,
   "id": "058eb890",
   "metadata": {},
   "outputs": [],
   "source": [
    "SF.close()"
   ]
  },
  {
   "cell_type": "code",
   "execution_count": 69,
   "id": "43f5c597",
   "metadata": {},
   "outputs": [],
   "source": [
    "df_sam = pd.DataFrame(sam_list, columns=['rname', 'qname', 'flag', 'pos', 'cigar', 'seq'])"
   ]
  },
  {
   "cell_type": "code",
   "execution_count": 73,
   "id": "e60e2eb2",
   "metadata": {},
   "outputs": [],
   "source": [
    "df_sam['ln'] = df_sam['rname'].apply(lambda x: int(len_chr[x]) if x in len_chr else np.nan )"
   ]
  },
  {
   "cell_type": "code",
   "execution_count": 88,
   "id": "9dc860eb",
   "metadata": {},
   "outputs": [
    {
     "data": {
      "text/html": [
       "<div>\n",
       "<style scoped>\n",
       "    .dataframe tbody tr th:only-of-type {\n",
       "        vertical-align: middle;\n",
       "    }\n",
       "\n",
       "    .dataframe tbody tr th {\n",
       "        vertical-align: top;\n",
       "    }\n",
       "\n",
       "    .dataframe thead th {\n",
       "        text-align: right;\n",
       "    }\n",
       "</style>\n",
       "<table border=\"1\" class=\"dataframe\">\n",
       "  <thead>\n",
       "    <tr style=\"text-align: right;\">\n",
       "      <th></th>\n",
       "      <th>rname</th>\n",
       "      <th>qname</th>\n",
       "      <th>flag</th>\n",
       "      <th>pos</th>\n",
       "      <th>cigar</th>\n",
       "      <th>seq</th>\n",
       "      <th>ln</th>\n",
       "    </tr>\n",
       "  </thead>\n",
       "  <tbody>\n",
       "    <tr>\n",
       "      <th>0</th>\n",
       "      <td>chr1</td>\n",
       "      <td>SRR590764.1</td>\n",
       "      <td>147</td>\n",
       "      <td>182976</td>\n",
       "      <td>[(0, 76)]</td>\n",
       "      <td>TGGGATCTCTGAGCTCAACAAGCCCTCTCTGGGTGGTAGGTGCAGA...</td>\n",
       "      <td>248956422.0</td>\n",
       "    </tr>\n",
       "    <tr>\n",
       "      <th>1</th>\n",
       "      <td>chr1</td>\n",
       "      <td>SRR590764.2</td>\n",
       "      <td>83</td>\n",
       "      <td>13026</td>\n",
       "      <td>[(0, 76)]</td>\n",
       "      <td>CATGAAGGCTGTCAACCAGTCCATAGGCAAGCCTGGCTGCCTCCAG...</td>\n",
       "      <td>248956422.0</td>\n",
       "    </tr>\n",
       "    <tr>\n",
       "      <th>2</th>\n",
       "      <td>chr1</td>\n",
       "      <td>SRR590764.2</td>\n",
       "      <td>163</td>\n",
       "      <td>12963</td>\n",
       "      <td>[(0, 76)]</td>\n",
       "      <td>TTCACTCCCAGCTCAGAGCCCAGGCCAGGGGCCCCCAAGAAAGGCT...</td>\n",
       "      <td>248956422.0</td>\n",
       "    </tr>\n",
       "    <tr>\n",
       "      <th>3</th>\n",
       "      <td>chr1</td>\n",
       "      <td>SRR590764.3</td>\n",
       "      <td>99</td>\n",
       "      <td>183736</td>\n",
       "      <td>[(0, 76)]</td>\n",
       "      <td>AAGGCAGGGCCATCAGGCACCAAAGGGATTCTGCCAGCATAGTGCT...</td>\n",
       "      <td>248956422.0</td>\n",
       "    </tr>\n",
       "    <tr>\n",
       "      <th>4</th>\n",
       "      <td>chr1</td>\n",
       "      <td>SRR590764.3</td>\n",
       "      <td>147</td>\n",
       "      <td>183756</td>\n",
       "      <td>[(0, 76)]</td>\n",
       "      <td>CAAAGGGATTCTGCCAGCATAGTGCTCCTGGACCAGTGATACACCC...</td>\n",
       "      <td>248956422.0</td>\n",
       "    </tr>\n",
       "  </tbody>\n",
       "</table>\n",
       "</div>"
      ],
      "text/plain": [
       "  rname        qname  flag     pos      cigar  \\\n",
       "0  chr1  SRR590764.1   147  182976  [(0, 76)]   \n",
       "1  chr1  SRR590764.2    83   13026  [(0, 76)]   \n",
       "2  chr1  SRR590764.2   163   12963  [(0, 76)]   \n",
       "3  chr1  SRR590764.3    99  183736  [(0, 76)]   \n",
       "4  chr1  SRR590764.3   147  183756  [(0, 76)]   \n",
       "\n",
       "                                                 seq           ln  \n",
       "0  TGGGATCTCTGAGCTCAACAAGCCCTCTCTGGGTGGTAGGTGCAGA...  248956422.0  \n",
       "1  CATGAAGGCTGTCAACCAGTCCATAGGCAAGCCTGGCTGCCTCCAG...  248956422.0  \n",
       "2  TTCACTCCCAGCTCAGAGCCCAGGCCAGGGGCCCCCAAGAAAGGCT...  248956422.0  \n",
       "3  AAGGCAGGGCCATCAGGCACCAAAGGGATTCTGCCAGCATAGTGCT...  248956422.0  \n",
       "4  CAAAGGGATTCTGCCAGCATAGTGCTCCTGGACCAGTGATACACCC...  248956422.0  "
      ]
     },
     "execution_count": 88,
     "metadata": {},
     "output_type": "execute_result"
    }
   ],
   "source": [
    "df_sam.head()"
   ]
  },
  {
   "cell_type": "code",
   "execution_count": 94,
   "id": "feab468d",
   "metadata": {},
   "outputs": [],
   "source": [
    "df_sam = df_sam[df_sam['ln'].notna()]"
   ]
  },
  {
   "cell_type": "code",
   "execution_count": 105,
   "id": "0bf48c24",
   "metadata": {},
   "outputs": [],
   "source": [
    "df_sam['pos'] = df_sam['pos'].astype(int)\n",
    "df_sam['ln'] = df_sam['ln'].astype(int)"
   ]
  },
  {
   "cell_type": "code",
   "execution_count": 106,
   "id": "6ddf2677",
   "metadata": {},
   "outputs": [],
   "source": [
    "max_gene = df_sam['pos'].max() + df_sam['ln'].max()"
   ]
  },
  {
   "cell_type": "code",
   "execution_count": 107,
   "id": "5357e859",
   "metadata": {},
   "outputs": [],
   "source": [
    "genom_reads = np.zeros(shape=(max_gene,) )"
   ]
  },
  {
   "cell_type": "code",
   "execution_count": 108,
   "id": "9427ec2f",
   "metadata": {},
   "outputs": [
    {
     "name": "stderr",
     "output_type": "stream",
     "text": [
      "  0%|                                 | 111/4675631 [00:22<266:13:13,  4.88it/s]\n"
     ]
    },
    {
     "ename": "KeyboardInterrupt",
     "evalue": "",
     "output_type": "error",
     "traceback": [
      "\u001b[0;31m---------------------------------------------------------------------------\u001b[0m",
      "\u001b[0;31mKeyboardInterrupt\u001b[0m                         Traceback (most recent call last)",
      "\u001b[0;32m/tmp/ipykernel_84398/311796595.py\u001b[0m in \u001b[0;36m<module>\u001b[0;34m\u001b[0m\n\u001b[1;32m      1\u001b[0m for i, read in tqdm(df_sam.iterrows(), \n\u001b[1;32m      2\u001b[0m                     total=df_sam.shape[0], position=0, leave=True):\n\u001b[0;32m----> 3\u001b[0;31m     \u001b[0mgenom_reads\u001b[0m\u001b[0;34m[\u001b[0m\u001b[0mpos\u001b[0m\u001b[0;34m:\u001b[0m\u001b[0mpos\u001b[0m\u001b[0;34m+\u001b[0m\u001b[0mln\u001b[0m\u001b[0;34m]\u001b[0m \u001b[0;34m+=\u001b[0m \u001b[0;36m1\u001b[0m\u001b[0;34m\u001b[0m\u001b[0;34m\u001b[0m\u001b[0m\n\u001b[0m",
      "\u001b[0;31mKeyboardInterrupt\u001b[0m: "
     ]
    }
   ],
   "source": [
    "for i, read in tqdm(df_sam.iterrows(), total=df_sam.shape[0], position=0, leave=True):\n",
    "    genom_reads[pos:pos+ln] += 1"
   ]
  },
  {
   "cell_type": "code",
   "execution_count": null,
   "id": "505ffc94",
   "metadata": {},
   "outputs": [],
   "source": []
  }
 ],
 "metadata": {
  "kernelspec": {
   "display_name": "Python 3 (ipykernel)",
   "language": "python",
   "name": "python3"
  },
  "language_info": {
   "codemirror_mode": {
    "name": "ipython",
    "version": 3
   },
   "file_extension": ".py",
   "mimetype": "text/x-python",
   "name": "python",
   "nbconvert_exporter": "python",
   "pygments_lexer": "ipython3",
   "version": "3.7.6"
  }
 },
 "nbformat": 4,
 "nbformat_minor": 5
}
