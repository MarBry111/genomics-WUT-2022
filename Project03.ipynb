{
 "cells": [
  {
   "cell_type": "code",
   "execution_count": 86,
   "id": "6ccb8ffb-00ba-443e-8f71-b34f930ecaa2",
   "metadata": {},
   "outputs": [],
   "source": [
    "import pandas as pd\n",
    "from tqdm import tqdm\n",
    "import numpy as np\n",
    "import re\n",
    "import matplotlib.pyplot as plt"
   ]
  },
  {
   "cell_type": "markdown",
   "id": "67f8c525",
   "metadata": {},
   "source": [
    "## Get data"
   ]
  },
  {
   "cell_type": "code",
   "execution_count": 2,
   "id": "b9b60762-ffa3-47c6-bf51-4257c107b26a",
   "metadata": {},
   "outputs": [],
   "source": [
    "chia_pet_loops = pd.read_csv('ChiA-PET_loops', sep='\\t', header=None)"
   ]
  },
  {
   "cell_type": "code",
   "execution_count": 147,
   "id": "13d6bccd-2530-4ec9-8b6a-84ce9272fe02",
   "metadata": {},
   "outputs": [],
   "source": [
    "hi_c_loops = pd.read_csv('hi_c_loops.bedpe', sep='\\t')"
   ]
  },
  {
   "cell_type": "code",
   "execution_count": 4,
   "id": "d380d307-e751-4e33-ae81-7e0aa1557130",
   "metadata": {},
   "outputs": [],
   "source": [
    "ctcf_chip_seq = pd.read_csv('CTCF-ChiP-seq-peaks', sep='\\t', header=None)\n",
    "rad21_chip_seq = pd.read_csv('Rad21-ChiP-seq-peaks', sep='\\t', header=None)"
   ]
  },
  {
   "cell_type": "markdown",
   "id": "2ffbadb1",
   "metadata": {},
   "source": [
    "## Edit column names"
   ]
  },
  {
   "cell_type": "code",
   "execution_count": 5,
   "id": "39b92429-506f-4ce4-9539-7f77bcfbadb1",
   "metadata": {},
   "outputs": [
    {
     "data": {
      "text/html": [
       "<div>\n",
       "<style scoped>\n",
       "    .dataframe tbody tr th:only-of-type {\n",
       "        vertical-align: middle;\n",
       "    }\n",
       "\n",
       "    .dataframe tbody tr th {\n",
       "        vertical-align: top;\n",
       "    }\n",
       "\n",
       "    .dataframe thead th {\n",
       "        text-align: right;\n",
       "    }\n",
       "</style>\n",
       "<table border=\"1\" class=\"dataframe\">\n",
       "  <thead>\n",
       "    <tr style=\"text-align: right;\">\n",
       "      <th></th>\n",
       "      <th>0</th>\n",
       "      <th>1</th>\n",
       "      <th>2</th>\n",
       "      <th>3</th>\n",
       "      <th>4</th>\n",
       "      <th>5</th>\n",
       "      <th>6</th>\n",
       "    </tr>\n",
       "  </thead>\n",
       "  <tbody>\n",
       "    <tr>\n",
       "      <th>0</th>\n",
       "      <td>chr10</td>\n",
       "      <td>45885</td>\n",
       "      <td>46422</td>\n",
       "      <td>chr10</td>\n",
       "      <td>142944</td>\n",
       "      <td>143595</td>\n",
       "      <td>1</td>\n",
       "    </tr>\n",
       "    <tr>\n",
       "      <th>1</th>\n",
       "      <td>chr10</td>\n",
       "      <td>45752</td>\n",
       "      <td>46403</td>\n",
       "      <td>chr10</td>\n",
       "      <td>25485109</td>\n",
       "      <td>25485656</td>\n",
       "      <td>1</td>\n",
       "    </tr>\n",
       "    <tr>\n",
       "      <th>2</th>\n",
       "      <td>chr10</td>\n",
       "      <td>49394</td>\n",
       "      <td>49943</td>\n",
       "      <td>chr10</td>\n",
       "      <td>57707</td>\n",
       "      <td>58358</td>\n",
       "      <td>1</td>\n",
       "    </tr>\n",
       "    <tr>\n",
       "      <th>3</th>\n",
       "      <td>chr10</td>\n",
       "      <td>50106</td>\n",
       "      <td>50686</td>\n",
       "      <td>chr10</td>\n",
       "      <td>63677</td>\n",
       "      <td>64334</td>\n",
       "      <td>1</td>\n",
       "    </tr>\n",
       "    <tr>\n",
       "      <th>4</th>\n",
       "      <td>chr10</td>\n",
       "      <td>52328</td>\n",
       "      <td>52918</td>\n",
       "      <td>chr10</td>\n",
       "      <td>70090</td>\n",
       "      <td>70671</td>\n",
       "      <td>1</td>\n",
       "    </tr>\n",
       "  </tbody>\n",
       "</table>\n",
       "</div>"
      ],
      "text/plain": [
       "       0      1      2      3         4         5  6\n",
       "0  chr10  45885  46422  chr10    142944    143595  1\n",
       "1  chr10  45752  46403  chr10  25485109  25485656  1\n",
       "2  chr10  49394  49943  chr10     57707     58358  1\n",
       "3  chr10  50106  50686  chr10     63677     64334  1\n",
       "4  chr10  52328  52918  chr10     70090     70671  1"
      ]
     },
     "execution_count": 5,
     "metadata": {},
     "output_type": "execute_result"
    }
   ],
   "source": [
    "chia_pet_loops.head(5)"
   ]
  },
  {
   "cell_type": "code",
   "execution_count": 6,
   "id": "cfe1ff2d-96cc-4a42-8fbc-c56e93f7db08",
   "metadata": {},
   "outputs": [
    {
     "data": {
      "text/html": [
       "<div>\n",
       "<style scoped>\n",
       "    .dataframe tbody tr th:only-of-type {\n",
       "        vertical-align: middle;\n",
       "    }\n",
       "\n",
       "    .dataframe tbody tr th {\n",
       "        vertical-align: top;\n",
       "    }\n",
       "\n",
       "    .dataframe thead th {\n",
       "        text-align: right;\n",
       "    }\n",
       "</style>\n",
       "<table border=\"1\" class=\"dataframe\">\n",
       "  <thead>\n",
       "    <tr style=\"text-align: right;\">\n",
       "      <th></th>\n",
       "      <th>char1</th>\n",
       "      <th>x1</th>\n",
       "      <th>x2</th>\n",
       "      <th>char2</th>\n",
       "      <th>y1</th>\n",
       "      <th>y2</th>\n",
       "    </tr>\n",
       "  </thead>\n",
       "  <tbody>\n",
       "    <tr>\n",
       "      <th>0</th>\n",
       "      <td>chr10</td>\n",
       "      <td>45885</td>\n",
       "      <td>46422</td>\n",
       "      <td>chr10</td>\n",
       "      <td>142944</td>\n",
       "      <td>143595</td>\n",
       "    </tr>\n",
       "    <tr>\n",
       "      <th>1</th>\n",
       "      <td>chr10</td>\n",
       "      <td>45752</td>\n",
       "      <td>46403</td>\n",
       "      <td>chr10</td>\n",
       "      <td>25485109</td>\n",
       "      <td>25485656</td>\n",
       "    </tr>\n",
       "    <tr>\n",
       "      <th>2</th>\n",
       "      <td>chr10</td>\n",
       "      <td>49394</td>\n",
       "      <td>49943</td>\n",
       "      <td>chr10</td>\n",
       "      <td>57707</td>\n",
       "      <td>58358</td>\n",
       "    </tr>\n",
       "    <tr>\n",
       "      <th>3</th>\n",
       "      <td>chr10</td>\n",
       "      <td>50106</td>\n",
       "      <td>50686</td>\n",
       "      <td>chr10</td>\n",
       "      <td>63677</td>\n",
       "      <td>64334</td>\n",
       "    </tr>\n",
       "    <tr>\n",
       "      <th>4</th>\n",
       "      <td>chr10</td>\n",
       "      <td>52328</td>\n",
       "      <td>52918</td>\n",
       "      <td>chr10</td>\n",
       "      <td>70090</td>\n",
       "      <td>70671</td>\n",
       "    </tr>\n",
       "  </tbody>\n",
       "</table>\n",
       "</div>"
      ],
      "text/plain": [
       "   char1     x1     x2  char2        y1        y2\n",
       "0  chr10  45885  46422  chr10    142944    143595\n",
       "1  chr10  45752  46403  chr10  25485109  25485656\n",
       "2  chr10  49394  49943  chr10     57707     58358\n",
       "3  chr10  50106  50686  chr10     63677     64334\n",
       "4  chr10  52328  52918  chr10     70090     70671"
      ]
     },
     "execution_count": 6,
     "metadata": {},
     "output_type": "execute_result"
    }
   ],
   "source": [
    "col = [str(c) for c in chia_pet_loops.columns.values]\n",
    "col[:6] = ['char1', 'x1', 'x2', 'char2', 'y1', 'y2']\n",
    "chia_pet_loops.columns = col\n",
    "chia_pet_loops = chia_pet_loops.iloc[:,:6]\n",
    "chia_pet_loops.head(5)"
   ]
  },
  {
   "cell_type": "code",
   "execution_count": 148,
   "id": "357a9f82",
   "metadata": {},
   "outputs": [
    {
     "data": {
      "text/html": [
       "<div>\n",
       "<style scoped>\n",
       "    .dataframe tbody tr th:only-of-type {\n",
       "        vertical-align: middle;\n",
       "    }\n",
       "\n",
       "    .dataframe tbody tr th {\n",
       "        vertical-align: top;\n",
       "    }\n",
       "\n",
       "    .dataframe thead th {\n",
       "        text-align: right;\n",
       "    }\n",
       "</style>\n",
       "<table border=\"1\" class=\"dataframe\">\n",
       "  <thead>\n",
       "    <tr style=\"text-align: right;\">\n",
       "      <th></th>\n",
       "      <th>#chr1</th>\n",
       "      <th>x1</th>\n",
       "      <th>x2</th>\n",
       "      <th>chr2</th>\n",
       "      <th>y1</th>\n",
       "      <th>y2</th>\n",
       "      <th>name</th>\n",
       "      <th>score</th>\n",
       "      <th>strand1</th>\n",
       "      <th>strand2</th>\n",
       "      <th>...</th>\n",
       "      <th>expectedH</th>\n",
       "      <th>expectedV</th>\n",
       "      <th>fdrBL</th>\n",
       "      <th>fdrDonut</th>\n",
       "      <th>fdrH</th>\n",
       "      <th>fdrV</th>\n",
       "      <th>numCollapsed</th>\n",
       "      <th>centroid1</th>\n",
       "      <th>centroid2</th>\n",
       "      <th>radius</th>\n",
       "    </tr>\n",
       "  </thead>\n",
       "  <tbody>\n",
       "    <tr>\n",
       "      <th>0</th>\n",
       "      <td>10</td>\n",
       "      <td>60880000.0</td>\n",
       "      <td>60890000.0</td>\n",
       "      <td>10</td>\n",
       "      <td>60960000.0</td>\n",
       "      <td>60970000.0</td>\n",
       "      <td>.</td>\n",
       "      <td>.</td>\n",
       "      <td>.</td>\n",
       "      <td>.</td>\n",
       "      <td>...</td>\n",
       "      <td>29.857151</td>\n",
       "      <td>34.565178</td>\n",
       "      <td>5.510599e-06</td>\n",
       "      <td>3.417617e-03</td>\n",
       "      <td>6.518073e-06</td>\n",
       "      <td>4.352302e-03</td>\n",
       "      <td>1.0</td>\n",
       "      <td>60885000.0</td>\n",
       "      <td>60965000.0</td>\n",
       "      <td>0.0</td>\n",
       "    </tr>\n",
       "    <tr>\n",
       "      <th>1</th>\n",
       "      <td>10</td>\n",
       "      <td>131900000.0</td>\n",
       "      <td>131910000.0</td>\n",
       "      <td>10</td>\n",
       "      <td>131980000.0</td>\n",
       "      <td>131990000.0</td>\n",
       "      <td>.</td>\n",
       "      <td>.</td>\n",
       "      <td>.</td>\n",
       "      <td>.</td>\n",
       "      <td>...</td>\n",
       "      <td>47.551224</td>\n",
       "      <td>38.399870</td>\n",
       "      <td>4.084538e-06</td>\n",
       "      <td>5.531278e-03</td>\n",
       "      <td>6.420658e-03</td>\n",
       "      <td>5.203196e-06</td>\n",
       "      <td>2.0</td>\n",
       "      <td>131905000.0</td>\n",
       "      <td>131980000.0</td>\n",
       "      <td>5000.0</td>\n",
       "    </tr>\n",
       "    <tr>\n",
       "      <th>2</th>\n",
       "      <td>10</td>\n",
       "      <td>71720000.0</td>\n",
       "      <td>71730000.0</td>\n",
       "      <td>10</td>\n",
       "      <td>71810000.0</td>\n",
       "      <td>71820000.0</td>\n",
       "      <td>.</td>\n",
       "      <td>.</td>\n",
       "      <td>.</td>\n",
       "      <td>.</td>\n",
       "      <td>...</td>\n",
       "      <td>56.117943</td>\n",
       "      <td>43.748466</td>\n",
       "      <td>2.594937e-06</td>\n",
       "      <td>2.825991e-06</td>\n",
       "      <td>8.173968e-03</td>\n",
       "      <td>3.346481e-06</td>\n",
       "      <td>2.0</td>\n",
       "      <td>71715000.0</td>\n",
       "      <td>71815000.0</td>\n",
       "      <td>10000.0</td>\n",
       "    </tr>\n",
       "    <tr>\n",
       "      <th>3</th>\n",
       "      <td>10</td>\n",
       "      <td>62610000.0</td>\n",
       "      <td>62620000.0</td>\n",
       "      <td>10</td>\n",
       "      <td>62730000.0</td>\n",
       "      <td>62740000.0</td>\n",
       "      <td>.</td>\n",
       "      <td>.</td>\n",
       "      <td>.</td>\n",
       "      <td>.</td>\n",
       "      <td>...</td>\n",
       "      <td>72.266400</td>\n",
       "      <td>52.050930</td>\n",
       "      <td>6.261819e-07</td>\n",
       "      <td>7.079455e-07</td>\n",
       "      <td>5.628446e-03</td>\n",
       "      <td>7.618980e-07</td>\n",
       "      <td>1.0</td>\n",
       "      <td>62615000.0</td>\n",
       "      <td>62735000.0</td>\n",
       "      <td>0.0</td>\n",
       "    </tr>\n",
       "    <tr>\n",
       "      <th>4</th>\n",
       "      <td>10</td>\n",
       "      <td>26780000.0</td>\n",
       "      <td>26790000.0</td>\n",
       "      <td>10</td>\n",
       "      <td>26850000.0</td>\n",
       "      <td>26860000.0</td>\n",
       "      <td>.</td>\n",
       "      <td>.</td>\n",
       "      <td>.</td>\n",
       "      <td>.</td>\n",
       "      <td>...</td>\n",
       "      <td>65.557430</td>\n",
       "      <td>90.107475</td>\n",
       "      <td>3.840393e-07</td>\n",
       "      <td>4.753292e-07</td>\n",
       "      <td>5.291055e-07</td>\n",
       "      <td>9.047872e-03</td>\n",
       "      <td>1.0</td>\n",
       "      <td>26785000.0</td>\n",
       "      <td>26855000.0</td>\n",
       "      <td>0.0</td>\n",
       "    </tr>\n",
       "  </tbody>\n",
       "</table>\n",
       "<p>5 rows × 24 columns</p>\n",
       "</div>"
      ],
      "text/plain": [
       "  #chr1           x1           x2 chr2           y1           y2 name score  \\\n",
       "0    10   60880000.0   60890000.0   10   60960000.0   60970000.0    .     .   \n",
       "1    10  131900000.0  131910000.0   10  131980000.0  131990000.0    .     .   \n",
       "2    10   71720000.0   71730000.0   10   71810000.0   71820000.0    .     .   \n",
       "3    10   62610000.0   62620000.0   10   62730000.0   62740000.0    .     .   \n",
       "4    10   26780000.0   26790000.0   10   26850000.0   26860000.0    .     .   \n",
       "\n",
       "  strand1 strand2  ...  expectedH  expectedV         fdrBL      fdrDonut  \\\n",
       "0       .       .  ...  29.857151  34.565178  5.510599e-06  3.417617e-03   \n",
       "1       .       .  ...  47.551224  38.399870  4.084538e-06  5.531278e-03   \n",
       "2       .       .  ...  56.117943  43.748466  2.594937e-06  2.825991e-06   \n",
       "3       .       .  ...  72.266400  52.050930  6.261819e-07  7.079455e-07   \n",
       "4       .       .  ...  65.557430  90.107475  3.840393e-07  4.753292e-07   \n",
       "\n",
       "           fdrH          fdrV  numCollapsed    centroid1    centroid2   radius  \n",
       "0  6.518073e-06  4.352302e-03           1.0   60885000.0   60965000.0      0.0  \n",
       "1  6.420658e-03  5.203196e-06           2.0  131905000.0  131980000.0   5000.0  \n",
       "2  8.173968e-03  3.346481e-06           2.0   71715000.0   71815000.0  10000.0  \n",
       "3  5.628446e-03  7.618980e-07           1.0   62615000.0   62735000.0      0.0  \n",
       "4  5.291055e-07  9.047872e-03           1.0   26785000.0   26855000.0      0.0  \n",
       "\n",
       "[5 rows x 24 columns]"
      ]
     },
     "execution_count": 148,
     "metadata": {},
     "output_type": "execute_result"
    }
   ],
   "source": [
    "hi_c_loops = hi_c_loops.dropna().reset_index(drop=True)\n",
    "hi_c_loops.head(5)"
   ]
  },
  {
   "cell_type": "code",
   "execution_count": 149,
   "id": "72dc3700",
   "metadata": {},
   "outputs": [
    {
     "data": {
      "text/html": [
       "<div>\n",
       "<style scoped>\n",
       "    .dataframe tbody tr th:only-of-type {\n",
       "        vertical-align: middle;\n",
       "    }\n",
       "\n",
       "    .dataframe tbody tr th {\n",
       "        vertical-align: top;\n",
       "    }\n",
       "\n",
       "    .dataframe thead th {\n",
       "        text-align: right;\n",
       "    }\n",
       "</style>\n",
       "<table border=\"1\" class=\"dataframe\">\n",
       "  <thead>\n",
       "    <tr style=\"text-align: right;\">\n",
       "      <th></th>\n",
       "      <th>char1</th>\n",
       "      <th>x1</th>\n",
       "      <th>x2</th>\n",
       "      <th>char2</th>\n",
       "      <th>y1</th>\n",
       "      <th>y2</th>\n",
       "    </tr>\n",
       "  </thead>\n",
       "  <tbody>\n",
       "    <tr>\n",
       "      <th>0</th>\n",
       "      <td>10</td>\n",
       "      <td>60880000.0</td>\n",
       "      <td>60890000.0</td>\n",
       "      <td>10</td>\n",
       "      <td>60960000.0</td>\n",
       "      <td>60970000.0</td>\n",
       "    </tr>\n",
       "    <tr>\n",
       "      <th>1</th>\n",
       "      <td>10</td>\n",
       "      <td>131900000.0</td>\n",
       "      <td>131910000.0</td>\n",
       "      <td>10</td>\n",
       "      <td>131980000.0</td>\n",
       "      <td>131990000.0</td>\n",
       "    </tr>\n",
       "    <tr>\n",
       "      <th>2</th>\n",
       "      <td>10</td>\n",
       "      <td>71720000.0</td>\n",
       "      <td>71730000.0</td>\n",
       "      <td>10</td>\n",
       "      <td>71810000.0</td>\n",
       "      <td>71820000.0</td>\n",
       "    </tr>\n",
       "    <tr>\n",
       "      <th>3</th>\n",
       "      <td>10</td>\n",
       "      <td>62610000.0</td>\n",
       "      <td>62620000.0</td>\n",
       "      <td>10</td>\n",
       "      <td>62730000.0</td>\n",
       "      <td>62740000.0</td>\n",
       "    </tr>\n",
       "    <tr>\n",
       "      <th>4</th>\n",
       "      <td>10</td>\n",
       "      <td>26780000.0</td>\n",
       "      <td>26790000.0</td>\n",
       "      <td>10</td>\n",
       "      <td>26850000.0</td>\n",
       "      <td>26860000.0</td>\n",
       "    </tr>\n",
       "  </tbody>\n",
       "</table>\n",
       "</div>"
      ],
      "text/plain": [
       "  char1           x1           x2 char2           y1           y2\n",
       "0    10   60880000.0   60890000.0    10   60960000.0   60970000.0\n",
       "1    10  131900000.0  131910000.0    10  131980000.0  131990000.0\n",
       "2    10   71720000.0   71730000.0    10   71810000.0   71820000.0\n",
       "3    10   62610000.0   62620000.0    10   62730000.0   62740000.0\n",
       "4    10   26780000.0   26790000.0    10   26850000.0   26860000.0"
      ]
     },
     "execution_count": 149,
     "metadata": {},
     "output_type": "execute_result"
    }
   ],
   "source": [
    "col = [str(c) for c in hi_c_loops.columns.values]\n",
    "col[:6] = ['char1', 'x1', 'x2', 'char2', 'y1', 'y2']\n",
    "hi_c_loops.columns = col\n",
    "hi_c_loops = hi_c_loops.iloc[:,:6]\n",
    "hi_c_loops.head(5)"
   ]
  },
  {
   "cell_type": "code",
   "execution_count": 150,
   "id": "7f5fb3d2",
   "metadata": {},
   "outputs": [
    {
     "data": {
      "text/html": [
       "<div>\n",
       "<style scoped>\n",
       "    .dataframe tbody tr th:only-of-type {\n",
       "        vertical-align: middle;\n",
       "    }\n",
       "\n",
       "    .dataframe tbody tr th {\n",
       "        vertical-align: top;\n",
       "    }\n",
       "\n",
       "    .dataframe thead th {\n",
       "        text-align: right;\n",
       "    }\n",
       "</style>\n",
       "<table border=\"1\" class=\"dataframe\">\n",
       "  <thead>\n",
       "    <tr style=\"text-align: right;\">\n",
       "      <th></th>\n",
       "      <th>char1</th>\n",
       "      <th>x1</th>\n",
       "      <th>x2</th>\n",
       "      <th>char2</th>\n",
       "      <th>y1</th>\n",
       "      <th>y2</th>\n",
       "    </tr>\n",
       "  </thead>\n",
       "  <tbody>\n",
       "    <tr>\n",
       "      <th>0</th>\n",
       "      <td>chr10</td>\n",
       "      <td>60880000.0</td>\n",
       "      <td>60890000.0</td>\n",
       "      <td>10</td>\n",
       "      <td>60960000.0</td>\n",
       "      <td>60970000.0</td>\n",
       "    </tr>\n",
       "    <tr>\n",
       "      <th>1</th>\n",
       "      <td>chr10</td>\n",
       "      <td>131900000.0</td>\n",
       "      <td>131910000.0</td>\n",
       "      <td>10</td>\n",
       "      <td>131980000.0</td>\n",
       "      <td>131990000.0</td>\n",
       "    </tr>\n",
       "    <tr>\n",
       "      <th>2</th>\n",
       "      <td>chr10</td>\n",
       "      <td>71720000.0</td>\n",
       "      <td>71730000.0</td>\n",
       "      <td>10</td>\n",
       "      <td>71810000.0</td>\n",
       "      <td>71820000.0</td>\n",
       "    </tr>\n",
       "    <tr>\n",
       "      <th>3</th>\n",
       "      <td>chr10</td>\n",
       "      <td>62610000.0</td>\n",
       "      <td>62620000.0</td>\n",
       "      <td>10</td>\n",
       "      <td>62730000.0</td>\n",
       "      <td>62740000.0</td>\n",
       "    </tr>\n",
       "    <tr>\n",
       "      <th>4</th>\n",
       "      <td>chr10</td>\n",
       "      <td>26780000.0</td>\n",
       "      <td>26790000.0</td>\n",
       "      <td>10</td>\n",
       "      <td>26850000.0</td>\n",
       "      <td>26860000.0</td>\n",
       "    </tr>\n",
       "  </tbody>\n",
       "</table>\n",
       "</div>"
      ],
      "text/plain": [
       "   char1           x1           x2 char2           y1           y2\n",
       "0  chr10   60880000.0   60890000.0    10   60960000.0   60970000.0\n",
       "1  chr10  131900000.0  131910000.0    10  131980000.0  131990000.0\n",
       "2  chr10   71720000.0   71730000.0    10   71810000.0   71820000.0\n",
       "3  chr10   62610000.0   62620000.0    10   62730000.0   62740000.0\n",
       "4  chr10   26780000.0   26790000.0    10   26850000.0   26860000.0"
      ]
     },
     "execution_count": 150,
     "metadata": {},
     "output_type": "execute_result"
    }
   ],
   "source": [
    "hi_c_loops.loc[:, 'char1'] = hi_c_loops['char1'].apply(lambda x: 'chr'+str(x))\n",
    "hi_c_loops.head(5)"
   ]
  },
  {
   "cell_type": "code",
   "execution_count": 9,
   "id": "d704ffe4-b1d8-4602-9589-862e656c640f",
   "metadata": {},
   "outputs": [
    {
     "data": {
      "text/html": [
       "<div>\n",
       "<style scoped>\n",
       "    .dataframe tbody tr th:only-of-type {\n",
       "        vertical-align: middle;\n",
       "    }\n",
       "\n",
       "    .dataframe tbody tr th {\n",
       "        vertical-align: top;\n",
       "    }\n",
       "\n",
       "    .dataframe thead th {\n",
       "        text-align: right;\n",
       "    }\n",
       "</style>\n",
       "<table border=\"1\" class=\"dataframe\">\n",
       "  <thead>\n",
       "    <tr style=\"text-align: right;\">\n",
       "      <th></th>\n",
       "      <th>0</th>\n",
       "      <th>1</th>\n",
       "      <th>2</th>\n",
       "      <th>3</th>\n",
       "      <th>4</th>\n",
       "      <th>5</th>\n",
       "      <th>6</th>\n",
       "      <th>7</th>\n",
       "      <th>8</th>\n",
       "      <th>9</th>\n",
       "    </tr>\n",
       "  </thead>\n",
       "  <tbody>\n",
       "    <tr>\n",
       "      <th>0</th>\n",
       "      <td>chr3</td>\n",
       "      <td>39812740</td>\n",
       "      <td>39813090</td>\n",
       "      <td>.</td>\n",
       "      <td>1000</td>\n",
       "      <td>.</td>\n",
       "      <td>3.89195</td>\n",
       "      <td>-1.0</td>\n",
       "      <td>-0.12016</td>\n",
       "      <td>175</td>\n",
       "    </tr>\n",
       "    <tr>\n",
       "      <th>1</th>\n",
       "      <td>chr2</td>\n",
       "      <td>96508234</td>\n",
       "      <td>96508584</td>\n",
       "      <td>.</td>\n",
       "      <td>1000</td>\n",
       "      <td>.</td>\n",
       "      <td>3.90013</td>\n",
       "      <td>-1.0</td>\n",
       "      <td>-0.12088</td>\n",
       "      <td>175</td>\n",
       "    </tr>\n",
       "    <tr>\n",
       "      <th>2</th>\n",
       "      <td>chr20</td>\n",
       "      <td>577635</td>\n",
       "      <td>577985</td>\n",
       "      <td>.</td>\n",
       "      <td>1000</td>\n",
       "      <td>.</td>\n",
       "      <td>3.90168</td>\n",
       "      <td>-1.0</td>\n",
       "      <td>-0.12093</td>\n",
       "      <td>175</td>\n",
       "    </tr>\n",
       "    <tr>\n",
       "      <th>3</th>\n",
       "      <td>chr14</td>\n",
       "      <td>23094608</td>\n",
       "      <td>23094958</td>\n",
       "      <td>.</td>\n",
       "      <td>1000</td>\n",
       "      <td>.</td>\n",
       "      <td>3.90787</td>\n",
       "      <td>-1.0</td>\n",
       "      <td>-0.12116</td>\n",
       "      <td>175</td>\n",
       "    </tr>\n",
       "    <tr>\n",
       "      <th>4</th>\n",
       "      <td>chr3</td>\n",
       "      <td>24683997</td>\n",
       "      <td>24684347</td>\n",
       "      <td>.</td>\n",
       "      <td>743</td>\n",
       "      <td>.</td>\n",
       "      <td>3.91675</td>\n",
       "      <td>-1.0</td>\n",
       "      <td>-0.11554</td>\n",
       "      <td>175</td>\n",
       "    </tr>\n",
       "  </tbody>\n",
       "</table>\n",
       "</div>"
      ],
      "text/plain": [
       "       0         1         2  3     4  5        6    7        8    9\n",
       "0   chr3  39812740  39813090  .  1000  .  3.89195 -1.0 -0.12016  175\n",
       "1   chr2  96508234  96508584  .  1000  .  3.90013 -1.0 -0.12088  175\n",
       "2  chr20    577635    577985  .  1000  .  3.90168 -1.0 -0.12093  175\n",
       "3  chr14  23094608  23094958  .  1000  .  3.90787 -1.0 -0.12116  175\n",
       "4   chr3  24683997  24684347  .   743  .  3.91675 -1.0 -0.11554  175"
      ]
     },
     "execution_count": 9,
     "metadata": {},
     "output_type": "execute_result"
    }
   ],
   "source": [
    "ctcf_chip_seq.head(5)"
   ]
  },
  {
   "cell_type": "code",
   "execution_count": 10,
   "id": "d44291a8",
   "metadata": {},
   "outputs": [],
   "source": [
    "# noticed that they are rounded to 10.000"
   ]
  },
  {
   "cell_type": "code",
   "execution_count": 11,
   "id": "ae89ba72",
   "metadata": {},
   "outputs": [
    {
     "data": {
      "text/html": [
       "<div>\n",
       "<style scoped>\n",
       "    .dataframe tbody tr th:only-of-type {\n",
       "        vertical-align: middle;\n",
       "    }\n",
       "\n",
       "    .dataframe tbody tr th {\n",
       "        vertical-align: top;\n",
       "    }\n",
       "\n",
       "    .dataframe thead th {\n",
       "        text-align: right;\n",
       "    }\n",
       "</style>\n",
       "<table border=\"1\" class=\"dataframe\">\n",
       "  <thead>\n",
       "    <tr style=\"text-align: right;\">\n",
       "      <th></th>\n",
       "      <th>char</th>\n",
       "      <th>x1</th>\n",
       "      <th>x2</th>\n",
       "    </tr>\n",
       "  </thead>\n",
       "  <tbody>\n",
       "    <tr>\n",
       "      <th>0</th>\n",
       "      <td>chr3</td>\n",
       "      <td>39812740</td>\n",
       "      <td>39813090</td>\n",
       "    </tr>\n",
       "    <tr>\n",
       "      <th>1</th>\n",
       "      <td>chr2</td>\n",
       "      <td>96508234</td>\n",
       "      <td>96508584</td>\n",
       "    </tr>\n",
       "    <tr>\n",
       "      <th>2</th>\n",
       "      <td>chr20</td>\n",
       "      <td>577635</td>\n",
       "      <td>577985</td>\n",
       "    </tr>\n",
       "    <tr>\n",
       "      <th>3</th>\n",
       "      <td>chr14</td>\n",
       "      <td>23094608</td>\n",
       "      <td>23094958</td>\n",
       "    </tr>\n",
       "    <tr>\n",
       "      <th>4</th>\n",
       "      <td>chr3</td>\n",
       "      <td>24683997</td>\n",
       "      <td>24684347</td>\n",
       "    </tr>\n",
       "  </tbody>\n",
       "</table>\n",
       "</div>"
      ],
      "text/plain": [
       "    char        x1        x2\n",
       "0   chr3  39812740  39813090\n",
       "1   chr2  96508234  96508584\n",
       "2  chr20    577635    577985\n",
       "3  chr14  23094608  23094958\n",
       "4   chr3  24683997  24684347"
      ]
     },
     "execution_count": 11,
     "metadata": {},
     "output_type": "execute_result"
    }
   ],
   "source": [
    "col = [str(c) for c in ctcf_chip_seq.columns.values]\n",
    "col[:3] = ['char', 'x1', 'x2']\n",
    "ctcf_chip_seq.columns = col\n",
    "ctcf_chip_seq = ctcf_chip_seq.iloc[:,:3]\n",
    "ctcf_chip_seq.head(5)"
   ]
  },
  {
   "cell_type": "code",
   "execution_count": 12,
   "id": "8eedc03b",
   "metadata": {},
   "outputs": [
    {
     "data": {
      "text/html": [
       "<div>\n",
       "<style scoped>\n",
       "    .dataframe tbody tr th:only-of-type {\n",
       "        vertical-align: middle;\n",
       "    }\n",
       "\n",
       "    .dataframe tbody tr th {\n",
       "        vertical-align: top;\n",
       "    }\n",
       "\n",
       "    .dataframe thead th {\n",
       "        text-align: right;\n",
       "    }\n",
       "</style>\n",
       "<table border=\"1\" class=\"dataframe\">\n",
       "  <thead>\n",
       "    <tr style=\"text-align: right;\">\n",
       "      <th></th>\n",
       "      <th>0</th>\n",
       "      <th>1</th>\n",
       "      <th>2</th>\n",
       "      <th>3</th>\n",
       "      <th>4</th>\n",
       "      <th>5</th>\n",
       "      <th>6</th>\n",
       "      <th>7</th>\n",
       "      <th>8</th>\n",
       "      <th>9</th>\n",
       "    </tr>\n",
       "  </thead>\n",
       "  <tbody>\n",
       "    <tr>\n",
       "      <th>0</th>\n",
       "      <td>chrX</td>\n",
       "      <td>10119439</td>\n",
       "      <td>10119802</td>\n",
       "      <td>.</td>\n",
       "      <td>1000</td>\n",
       "      <td>.</td>\n",
       "      <td>334.21329</td>\n",
       "      <td>-1.0</td>\n",
       "      <td>4.49182</td>\n",
       "      <td>164</td>\n",
       "    </tr>\n",
       "    <tr>\n",
       "      <th>1</th>\n",
       "      <td>chr4</td>\n",
       "      <td>147866870</td>\n",
       "      <td>147867089</td>\n",
       "      <td>.</td>\n",
       "      <td>1000</td>\n",
       "      <td>.</td>\n",
       "      <td>297.61464</td>\n",
       "      <td>-1.0</td>\n",
       "      <td>4.49182</td>\n",
       "      <td>88</td>\n",
       "    </tr>\n",
       "    <tr>\n",
       "      <th>2</th>\n",
       "      <td>chr20</td>\n",
       "      <td>34312736</td>\n",
       "      <td>34312962</td>\n",
       "      <td>.</td>\n",
       "      <td>1000</td>\n",
       "      <td>.</td>\n",
       "      <td>288.86682</td>\n",
       "      <td>-1.0</td>\n",
       "      <td>4.49182</td>\n",
       "      <td>119</td>\n",
       "    </tr>\n",
       "    <tr>\n",
       "      <th>3</th>\n",
       "      <td>chr10</td>\n",
       "      <td>102009907</td>\n",
       "      <td>102010123</td>\n",
       "      <td>.</td>\n",
       "      <td>1000</td>\n",
       "      <td>.</td>\n",
       "      <td>284.80870</td>\n",
       "      <td>-1.0</td>\n",
       "      <td>4.49182</td>\n",
       "      <td>106</td>\n",
       "    </tr>\n",
       "    <tr>\n",
       "      <th>4</th>\n",
       "      <td>chr3</td>\n",
       "      <td>39288401</td>\n",
       "      <td>39288604</td>\n",
       "      <td>.</td>\n",
       "      <td>1000</td>\n",
       "      <td>.</td>\n",
       "      <td>280.73137</td>\n",
       "      <td>-1.0</td>\n",
       "      <td>4.49182</td>\n",
       "      <td>103</td>\n",
       "    </tr>\n",
       "  </tbody>\n",
       "</table>\n",
       "</div>"
      ],
      "text/plain": [
       "       0          1          2  3     4  5          6    7        8    9\n",
       "0   chrX   10119439   10119802  .  1000  .  334.21329 -1.0  4.49182  164\n",
       "1   chr4  147866870  147867089  .  1000  .  297.61464 -1.0  4.49182   88\n",
       "2  chr20   34312736   34312962  .  1000  .  288.86682 -1.0  4.49182  119\n",
       "3  chr10  102009907  102010123  .  1000  .  284.80870 -1.0  4.49182  106\n",
       "4   chr3   39288401   39288604  .  1000  .  280.73137 -1.0  4.49182  103"
      ]
     },
     "execution_count": 12,
     "metadata": {},
     "output_type": "execute_result"
    }
   ],
   "source": [
    "rad21_chip_seq.head(5)"
   ]
  },
  {
   "cell_type": "code",
   "execution_count": 13,
   "id": "5caa2489",
   "metadata": {},
   "outputs": [
    {
     "data": {
      "text/html": [
       "<div>\n",
       "<style scoped>\n",
       "    .dataframe tbody tr th:only-of-type {\n",
       "        vertical-align: middle;\n",
       "    }\n",
       "\n",
       "    .dataframe tbody tr th {\n",
       "        vertical-align: top;\n",
       "    }\n",
       "\n",
       "    .dataframe thead th {\n",
       "        text-align: right;\n",
       "    }\n",
       "</style>\n",
       "<table border=\"1\" class=\"dataframe\">\n",
       "  <thead>\n",
       "    <tr style=\"text-align: right;\">\n",
       "      <th></th>\n",
       "      <th>char</th>\n",
       "      <th>x1</th>\n",
       "      <th>x2</th>\n",
       "    </tr>\n",
       "  </thead>\n",
       "  <tbody>\n",
       "    <tr>\n",
       "      <th>0</th>\n",
       "      <td>chrX</td>\n",
       "      <td>10119439</td>\n",
       "      <td>10119802</td>\n",
       "    </tr>\n",
       "    <tr>\n",
       "      <th>1</th>\n",
       "      <td>chr4</td>\n",
       "      <td>147866870</td>\n",
       "      <td>147867089</td>\n",
       "    </tr>\n",
       "    <tr>\n",
       "      <th>2</th>\n",
       "      <td>chr20</td>\n",
       "      <td>34312736</td>\n",
       "      <td>34312962</td>\n",
       "    </tr>\n",
       "    <tr>\n",
       "      <th>3</th>\n",
       "      <td>chr10</td>\n",
       "      <td>102009907</td>\n",
       "      <td>102010123</td>\n",
       "    </tr>\n",
       "    <tr>\n",
       "      <th>4</th>\n",
       "      <td>chr3</td>\n",
       "      <td>39288401</td>\n",
       "      <td>39288604</td>\n",
       "    </tr>\n",
       "  </tbody>\n",
       "</table>\n",
       "</div>"
      ],
      "text/plain": [
       "    char         x1         x2\n",
       "0   chrX   10119439   10119802\n",
       "1   chr4  147866870  147867089\n",
       "2  chr20   34312736   34312962\n",
       "3  chr10  102009907  102010123\n",
       "4   chr3   39288401   39288604"
      ]
     },
     "execution_count": 13,
     "metadata": {},
     "output_type": "execute_result"
    }
   ],
   "source": [
    "col = [str(c) for c in rad21_chip_seq.columns.values]\n",
    "col[:3] = ['char', 'x1', 'x2']\n",
    "rad21_chip_seq.columns = col\n",
    "rad21_chip_seq = rad21_chip_seq.iloc[:,:3]\n",
    "rad21_chip_seq.head(5)"
   ]
  },
  {
   "cell_type": "markdown",
   "id": "93301f48",
   "metadata": {},
   "source": [
    "## Find loops matching given peaks"
   ]
  },
  {
   "cell_type": "code",
   "execution_count": 14,
   "id": "7139ab98",
   "metadata": {},
   "outputs": [
    {
     "data": {
      "text/plain": [
       "Index(['char', 'x1', 'x2'], dtype='object')"
      ]
     },
     "execution_count": 14,
     "metadata": {},
     "output_type": "execute_result"
    }
   ],
   "source": [
    "ctcf_chip_seq.columns"
   ]
  },
  {
   "cell_type": "code",
   "execution_count": 15,
   "id": "1d65fe94",
   "metadata": {},
   "outputs": [
    {
     "data": {
      "text/plain": [
       "Index(['char1', 'x1', 'x2', 'char2', 'y1', 'y2'], dtype='object')"
      ]
     },
     "execution_count": 15,
     "metadata": {},
     "output_type": "execute_result"
    }
   ],
   "source": [
    "chia_pet_loops.columns"
   ]
  },
  {
   "cell_type": "code",
   "execution_count": 16,
   "id": "91aadf33",
   "metadata": {},
   "outputs": [
    {
     "data": {
      "text/html": [
       "<div>\n",
       "<style scoped>\n",
       "    .dataframe tbody tr th:only-of-type {\n",
       "        vertical-align: middle;\n",
       "    }\n",
       "\n",
       "    .dataframe tbody tr th {\n",
       "        vertical-align: top;\n",
       "    }\n",
       "\n",
       "    .dataframe thead th {\n",
       "        text-align: right;\n",
       "    }\n",
       "</style>\n",
       "<table border=\"1\" class=\"dataframe\">\n",
       "  <thead>\n",
       "    <tr style=\"text-align: right;\">\n",
       "      <th></th>\n",
       "      <th>char1</th>\n",
       "      <th>x1</th>\n",
       "      <th>x2</th>\n",
       "      <th>char2</th>\n",
       "      <th>y1</th>\n",
       "      <th>y2</th>\n",
       "    </tr>\n",
       "  </thead>\n",
       "  <tbody>\n",
       "    <tr>\n",
       "      <th>0</th>\n",
       "      <td>chr10</td>\n",
       "      <td>45885</td>\n",
       "      <td>46422</td>\n",
       "      <td>chr10</td>\n",
       "      <td>142944</td>\n",
       "      <td>143595</td>\n",
       "    </tr>\n",
       "    <tr>\n",
       "      <th>1</th>\n",
       "      <td>chr10</td>\n",
       "      <td>45752</td>\n",
       "      <td>46403</td>\n",
       "      <td>chr10</td>\n",
       "      <td>25485109</td>\n",
       "      <td>25485656</td>\n",
       "    </tr>\n",
       "    <tr>\n",
       "      <th>2</th>\n",
       "      <td>chr10</td>\n",
       "      <td>49394</td>\n",
       "      <td>49943</td>\n",
       "      <td>chr10</td>\n",
       "      <td>57707</td>\n",
       "      <td>58358</td>\n",
       "    </tr>\n",
       "    <tr>\n",
       "      <th>3</th>\n",
       "      <td>chr10</td>\n",
       "      <td>50106</td>\n",
       "      <td>50686</td>\n",
       "      <td>chr10</td>\n",
       "      <td>63677</td>\n",
       "      <td>64334</td>\n",
       "    </tr>\n",
       "    <tr>\n",
       "      <th>4</th>\n",
       "      <td>chr10</td>\n",
       "      <td>52328</td>\n",
       "      <td>52918</td>\n",
       "      <td>chr10</td>\n",
       "      <td>70090</td>\n",
       "      <td>70671</td>\n",
       "    </tr>\n",
       "  </tbody>\n",
       "</table>\n",
       "</div>"
      ],
      "text/plain": [
       "   char1     x1     x2  char2        y1        y2\n",
       "0  chr10  45885  46422  chr10    142944    143595\n",
       "1  chr10  45752  46403  chr10  25485109  25485656\n",
       "2  chr10  49394  49943  chr10     57707     58358\n",
       "3  chr10  50106  50686  chr10     63677     64334\n",
       "4  chr10  52328  52918  chr10     70090     70671"
      ]
     },
     "execution_count": 16,
     "metadata": {},
     "output_type": "execute_result"
    }
   ],
   "source": [
    "chia_pet_loops.head(5)"
   ]
  },
  {
   "cell_type": "code",
   "execution_count": 112,
   "id": "88b0a12d",
   "metadata": {},
   "outputs": [],
   "source": [
    "def find_peaks_for_chr(chrx, peaks_df=ctcf_chip_seq, loops_df=chia_pet_loops, thr=0):\n",
    "    temp_peaks = peaks_df[peaks_df['char']==chrx]\n",
    "    intervals_peaks = pd.arrays.IntervalArray.from_arrays(\n",
    "        temp_peaks['x1'].values-thr, \n",
    "        temp_peaks['x2'].values+thr, closed='both')\n",
    "\n",
    "    temp_loops = loops_df[loops_df['char1']==chrx]\n",
    "    loops_s = pd.arrays.IntervalArray.from_arrays(\n",
    "        temp_loops['x1'].values, \n",
    "        temp_loops['x2'].values, closed='both')\n",
    "\n",
    "    loops_e = pd.arrays.IntervalArray.from_arrays(\n",
    "        temp_loops['y1'].values, \n",
    "        temp_loops['y2'].values, closed='both')\n",
    "\n",
    "    temp_loops['s'] = False\n",
    "#     temp_loops['se'] = False\n",
    "    \n",
    "    for p in tqdm(intervals_peaks, desc=chrx, leave=True):\n",
    "        temp_loops.loc[:, 's'] = temp_loops['s'] | loops_s.overlaps(p)\n",
    "#         temp_loops.loc[:, 'se'] = temp_loops['s'] | (loops_s.overlaps(p) * loops_e.overlaps(p))\n",
    "        \n",
    "    return temp_loops[temp_loops['s']].index.values.tolist()"
   ]
  },
  {
   "cell_type": "code",
   "execution_count": 64,
   "id": "623b2439",
   "metadata": {},
   "outputs": [
    {
     "data": {
      "text/plain": [
       "array(['chr3', 'chr2', 'chr20', 'chr14', 'chr10', 'chr12', 'chr4',\n",
       "       'chr19', 'chr11', 'chr7', 'chr5', 'chr18', 'chr16', 'chr13',\n",
       "       'chr1', 'chr21', 'chr6', 'chr22', 'chr8', 'chr9', 'chrX', 'chr15',\n",
       "       'chr17', 'chrUn_GL000219v1', 'chr17_GL000205v2_random',\n",
       "       'chr1_KI270714v1_random'], dtype=object)"
      ]
     },
     "execution_count": 64,
     "metadata": {},
     "output_type": "execute_result"
    }
   ],
   "source": [
    "ctcf_chip_seq['char'].unique()"
   ]
  },
  {
   "cell_type": "code",
   "execution_count": 68,
   "id": "2ad7fee3",
   "metadata": {},
   "outputs": [],
   "source": [
    "pd.options.mode.chained_assignment = None  # default='warn'"
   ]
  },
  {
   "cell_type": "markdown",
   "id": "23bdcb26",
   "metadata": {},
   "source": [
    "## Look match for given chromosome only on the start fo the loop"
   ]
  },
  {
   "cell_type": "code",
   "execution_count": 69,
   "id": "7b916d1f",
   "metadata": {},
   "outputs": [
    {
     "name": "stderr",
     "output_type": "stream",
     "text": [
      "chr3: 100%|████████████████████████████████| 2594/2594 [00:21<00:00, 122.16it/s]\n",
      "chr2: 100%|████████████████████████████████| 3151/3151 [00:28<00:00, 110.55it/s]\n",
      "chr20: 100%|███████████████████████████████| 1154/1154 [00:03<00:00, 344.61it/s]\n",
      "chr14: 100%|███████████████████████████████| 1405/1405 [00:05<00:00, 264.79it/s]\n",
      "chr10: 100%|███████████████████████████████| 1915/1915 [00:09<00:00, 195.01it/s]\n",
      "chr12: 100%|███████████████████████████████| 2090/2090 [00:10<00:00, 195.01it/s]\n",
      "chr4: 100%|████████████████████████████████| 1911/1911 [00:13<00:00, 142.22it/s]\n",
      "chr19: 100%|███████████████████████████████| 1587/1587 [00:03<00:00, 474.75it/s]\n",
      "chr11: 100%|███████████████████████████████| 2278/2278 [00:11<00:00, 194.33it/s]\n",
      "chr7: 100%|████████████████████████████████| 1975/1975 [00:10<00:00, 184.39it/s]\n",
      "chr5: 100%|████████████████████████████████| 2124/2124 [00:15<00:00, 140.21it/s]\n",
      "chr18: 100%|█████████████████████████████████| 855/855 [00:02<00:00, 314.55it/s]\n",
      "chr16: 100%|███████████████████████████████| 1391/1391 [00:04<00:00, 300.61it/s]\n",
      "chr13: 100%|█████████████████████████████████| 936/936 [00:03<00:00, 271.32it/s]\n",
      "chr1: 100%|████████████████████████████████| 3866/3866 [00:35<00:00, 107.74it/s]\n",
      "chr21: 100%|█████████████████████████████████| 386/386 [00:00<00:00, 803.14it/s]\n",
      "chr6: 100%|████████████████████████████████| 2387/2387 [00:18<00:00, 128.20it/s]\n",
      "chr22: 100%|█████████████████████████████████| 794/794 [00:00<00:00, 862.01it/s]\n",
      "chr8: 100%|████████████████████████████████| 1802/1802 [00:07<00:00, 238.62it/s]\n",
      "chr9: 100%|████████████████████████████████| 1645/1645 [00:05<00:00, 327.72it/s]\n",
      "chrX: 100%|████████████████████████████████| 1428/1428 [00:04<00:00, 310.58it/s]\n",
      "chr15: 100%|███████████████████████████████| 1350/1350 [00:03<00:00, 442.01it/s]\n",
      "chr17: 100%|███████████████████████████████| 1917/1917 [00:04<00:00, 438.75it/s]\n",
      "chrUn_GL000219v1: 100%|█████████████████████████| 4/4 [00:00<00:00, 1597.07it/s]\n",
      "chr17_GL000205v2_random: 100%|██████████████████| 3/3 [00:00<00:00, 1448.81it/s]\n",
      "chr1_KI270714v1_random: 100%|███████████████████| 1/1 [00:00<00:00, 1111.96it/s]\n"
     ]
    }
   ],
   "source": [
    "chia_ctcf_match = []\n",
    "for chri in ctcf_chip_seq['char'].unique():\n",
    "    chia_ctcf_match = chia_ctcf_match + find_peaks_for_chr(chri, ctcf_chip_seq, chia_pet_loops)"
   ]
  },
  {
   "cell_type": "code",
   "execution_count": 124,
   "id": "3bf544bc",
   "metadata": {},
   "outputs": [],
   "source": [
    "chia_pet_loops['ctcf'] = 0\n",
    "chia_pet_loops.iloc[ chia_ctcf_match, chia_pet_loops.columns.values.tolist().index('ctcf')] = 1"
   ]
  },
  {
   "cell_type": "code",
   "execution_count": 125,
   "id": "1d93018d",
   "metadata": {},
   "outputs": [
    {
     "data": {
      "image/png": "[encoded data removed]",
      "text/plain": [
       "<Figure size 576x288 with 1 Axes>"
      ]
     },
     "metadata": {
      "needs_background": "light"
     },
     "output_type": "display_data"
    }
   ],
   "source": [
    "chia_pet_loops.groupby('char1').agg(n=('ctcf', 'sum')).plot(kind='bar', figsize=(8,4))\n",
    "plt.title('Loops confirmed using CTCF')\n",
    "plt.xlabel('chromosome')\n",
    "plt.ylabel('number of loops starting there')\n",
    "plt.savefig('chia_pet_ctcf.png')"
   ]
  },
  {
   "cell_type": "code",
   "execution_count": 114,
   "id": "a5301623",
   "metadata": {},
   "outputs": [
    {
     "name": "stderr",
     "output_type": "stream",
     "text": [
      "chrX: 100%|████████████████████████████████| 1164/1164 [00:05<00:00, 215.81it/s]\n",
      "chr4: 100%|████████████████████████████████| 1729/1729 [00:13<00:00, 131.91it/s]\n",
      "chr20: 100%|█████████████████████████████████| 916/916 [00:02<00:00, 347.15it/s]\n",
      "chr10: 100%|███████████████████████████████| 1628/1628 [00:08<00:00, 198.39it/s]\n",
      "chr3: 100%|████████████████████████████████| 2319/2319 [00:18<00:00, 122.80it/s]\n",
      "chr6: 100%|████████████████████████████████| 2149/2149 [00:14<00:00, 143.43it/s]\n",
      "chr19: 100%|███████████████████████████████| 1142/1142 [00:02<00:00, 525.03it/s]\n",
      "chr5: 100%|████████████████████████████████| 1951/1951 [00:13<00:00, 148.16it/s]\n",
      "chr11: 100%|███████████████████████████████| 1823/1823 [00:08<00:00, 213.70it/s]\n",
      "chr14: 100%|███████████████████████████████| 1184/1184 [00:03<00:00, 332.94it/s]\n",
      "chr1: 100%|████████████████████████████████| 3182/3182 [00:25<00:00, 125.43it/s]\n",
      "chr17: 100%|███████████████████████████████| 1435/1435 [00:03<00:00, 384.15it/s]\n",
      "chr16: 100%|███████████████████████████████| 1074/1074 [00:02<00:00, 469.65it/s]\n",
      "chr2: 100%|████████████████████████████████| 2714/2714 [00:22<00:00, 123.07it/s]\n",
      "chr22: 100%|████████████████████████████████| 607/607 [00:00<00:00, 1127.92it/s]\n",
      "chr13: 100%|█████████████████████████████████| 859/859 [00:02<00:00, 342.55it/s]\n",
      "chr12: 100%|███████████████████████████████| 1850/1850 [00:10<00:00, 172.21it/s]\n",
      "chr9: 100%|████████████████████████████████| 1375/1375 [00:05<00:00, 238.91it/s]\n",
      "chr21: 100%|████████████████████████████████| 333/333 [00:00<00:00, 1356.51it/s]\n",
      "chr7: 100%|████████████████████████████████| 1697/1697 [00:08<00:00, 201.07it/s]\n",
      "chr8: 100%|████████████████████████████████| 1566/1566 [00:07<00:00, 199.78it/s]\n",
      "chr18: 100%|█████████████████████████████████| 781/781 [00:02<00:00, 364.57it/s]\n",
      "chr15: 100%|███████████████████████████████| 1145/1145 [00:03<00:00, 377.80it/s]\n"
     ]
    }
   ],
   "source": [
    "chia_rad21_match = []\n",
    "for chri in rad21_chip_seq['char'].unique():\n",
    "    chia_rad21_match = chia_rad21_match + find_peaks_for_chr(chri, rad21_chip_seq, chia_pet_loops)"
   ]
  },
  {
   "cell_type": "code",
   "execution_count": 115,
   "id": "96a259b3",
   "metadata": {},
   "outputs": [
    {
     "data": {
      "text/plain": [
       "2549265"
      ]
     },
     "execution_count": 115,
     "metadata": {},
     "output_type": "execute_result"
    }
   ],
   "source": [
    "len(chia_rad21_match)"
   ]
  },
  {
   "cell_type": "code",
   "execution_count": 157,
   "id": "c6dc209e",
   "metadata": {},
   "outputs": [
    {
     "data": {
      "text/plain": [
       "5.7344244568001805"
      ]
     },
     "execution_count": 157,
     "metadata": {},
     "output_type": "execute_result"
    }
   ],
   "source": [
    "len(chia_rad21_match)/chia_pet_loops.shape[0]*100"
   ]
  },
  {
   "cell_type": "code",
   "execution_count": 126,
   "id": "3cd2f158",
   "metadata": {},
   "outputs": [],
   "source": [
    "chia_pet_loops['rad21'] = 0\n",
    "chia_pet_loops.iloc[ chia_rad21_match, chia_pet_loops.columns.values.tolist().index('rad21')] = 1"
   ]
  },
  {
   "cell_type": "code",
   "execution_count": 127,
   "id": "669dd2e5",
   "metadata": {},
   "outputs": [
    {
     "data": {
      "text/plain": [
       "(973069, 8)"
      ]
     },
     "execution_count": 127,
     "metadata": {},
     "output_type": "execute_result"
    }
   ],
   "source": [
    "chia_pet_loops[chia_pet_loops['ctcf'] != chia_pet_loops['rad21']].shape"
   ]
  },
  {
   "cell_type": "code",
   "execution_count": 128,
   "id": "3320995a",
   "metadata": {},
   "outputs": [
    {
     "data": {
      "image/png": "[encoded data removed]",
      "text/plain": [
       "<Figure size 576x288 with 1 Axes>"
      ]
     },
     "metadata": {
      "needs_background": "light"
     },
     "output_type": "display_data"
    }
   ],
   "source": [
    "chia_pet_loops.groupby('char1').agg(n=('rad21', 'sum')).plot(kind='bar', figsize=(8,4))\n",
    "plt.title('Loops confirmed using Rad21')\n",
    "plt.xlabel('chromosome')\n",
    "plt.ylabel('number of loops starting there')\n",
    "plt.savefig('chia_pet_rad21.png')"
   ]
  },
  {
   "cell_type": "code",
   "execution_count": 151,
   "id": "8f6a533f",
   "metadata": {},
   "outputs": [
    {
     "name": "stderr",
     "output_type": "stream",
     "text": [
      "chr3: 100%|███████████████████████████████| 2594/2594 [00:01<00:00, 2088.63it/s]\n",
      "chr2: 100%|███████████████████████████████| 3151/3151 [00:01<00:00, 3099.27it/s]\n",
      "chr20: 100%|██████████████████████████████| 1154/1154 [00:00<00:00, 2583.33it/s]\n",
      "chr14: 100%|██████████████████████████████| 1405/1405 [00:00<00:00, 2954.27it/s]\n",
      "chr10: 100%|██████████████████████████████| 1915/1915 [00:00<00:00, 2229.60it/s]\n",
      "chr12: 100%|██████████████████████████████| 2090/2090 [00:00<00:00, 2266.49it/s]\n",
      "chr4: 100%|███████████████████████████████| 1911/1911 [00:00<00:00, 3008.04it/s]\n",
      "chr19: 100%|██████████████████████████████| 1587/1587 [00:00<00:00, 2933.61it/s]\n",
      "chr11: 100%|██████████████████████████████| 2278/2278 [00:00<00:00, 2753.25it/s]\n",
      "chr7: 100%|███████████████████████████████| 1975/1975 [00:00<00:00, 2757.70it/s]\n",
      "chr5: 100%|███████████████████████████████| 2124/2124 [00:00<00:00, 2632.19it/s]\n",
      "chr18: 100%|████████████████████████████████| 855/855 [00:00<00:00, 2672.89it/s]\n",
      "chr16: 100%|██████████████████████████████| 1391/1391 [00:00<00:00, 2822.88it/s]\n",
      "chr13: 100%|████████████████████████████████| 936/936 [00:00<00:00, 2667.88it/s]\n",
      "chr1: 100%|███████████████████████████████| 3866/3866 [00:01<00:00, 2441.39it/s]\n",
      "chr21: 100%|████████████████████████████████| 386/386 [00:00<00:00, 1221.97it/s]\n",
      "chr6: 100%|███████████████████████████████| 2387/2387 [00:00<00:00, 2591.47it/s]\n",
      "chr22: 100%|████████████████████████████████| 794/794 [00:00<00:00, 2464.05it/s]\n",
      "chr8: 100%|███████████████████████████████| 1802/1802 [00:00<00:00, 2048.08it/s]\n",
      "chr9: 100%|███████████████████████████████| 1645/1645 [00:00<00:00, 2626.63it/s]\n",
      "chrX: 100%|███████████████████████████████| 1428/1428 [00:00<00:00, 2658.70it/s]\n",
      "chr15: 100%|██████████████████████████████| 1350/1350 [00:00<00:00, 2945.95it/s]\n",
      "chr17: 100%|██████████████████████████████| 1917/1917 [00:00<00:00, 2119.74it/s]\n",
      "chrUn_GL000219v1: 100%|██████████████████████████| 4/4 [00:00<00:00, 795.66it/s]\n",
      "chr17_GL000205v2_random: 100%|███████████████████| 3/3 [00:00<00:00, 771.72it/s]\n",
      "chr1_KI270714v1_random: 100%|████████████████████| 1/1 [00:00<00:00, 804.28it/s]\n"
     ]
    }
   ],
   "source": [
    "hic_ctcf_match = []\n",
    "for chri in ctcf_chip_seq['char'].unique():\n",
    "    hic_ctcf_match = hic_ctcf_match + find_peaks_for_chr(chri, ctcf_chip_seq, hi_c_loops)"
   ]
  },
  {
   "cell_type": "code",
   "execution_count": 152,
   "id": "8211e8f0",
   "metadata": {},
   "outputs": [
    {
     "data": {
      "text/plain": [
       "11449"
      ]
     },
     "execution_count": 152,
     "metadata": {},
     "output_type": "execute_result"
    }
   ],
   "source": [
    "len(hic_ctcf_match)"
   ]
  },
  {
   "cell_type": "code",
   "execution_count": 158,
   "id": "dee880eb",
   "metadata": {},
   "outputs": [
    {
     "data": {
      "text/plain": [
       "75.15919385544542"
      ]
     },
     "execution_count": 158,
     "metadata": {},
     "output_type": "execute_result"
    }
   ],
   "source": [
    "len(hic_ctcf_match)/hi_c_loops.shape[0]*100"
   ]
  },
  {
   "cell_type": "code",
   "execution_count": 169,
   "id": "83ff0ebc",
   "metadata": {},
   "outputs": [],
   "source": [
    "hi_c_loops['ctcf'] = 0\n",
    "hi_c_loops.iloc[ hic_ctcf_match, hi_c_loops.columns.values.tolist().index('ctcf')] = 1"
   ]
  },
  {
   "cell_type": "code",
   "execution_count": 170,
   "id": "966b9070",
   "metadata": {},
   "outputs": [
    {
     "data": {
      "image/png": "[encoded data removed]",
      "text/plain": [
       "<Figure size 576x288 with 1 Axes>"
      ]
     },
     "metadata": {
      "needs_background": "light"
     },
     "output_type": "display_data"
    }
   ],
   "source": [
    "hi_c_loops.groupby('char1').agg(n=('ctcf', 'sum')).plot(kind='bar', figsize=(8,4))\n",
    "plt.title('Loops confirmed using CTCF')\n",
    "plt.xlabel('chromosome')\n",
    "plt.ylabel('number of loops starting there')\n",
    "plt.savefig('hic_pet_ctcf.png')"
   ]
  },
  {
   "cell_type": "code",
   "execution_count": 161,
   "id": "a82fed4f",
   "metadata": {},
   "outputs": [
    {
     "name": "stderr",
     "output_type": "stream",
     "text": [
      "chr3: 100%|███████████████████████████████| 2319/2319 [00:00<00:00, 2970.84it/s]\n",
      "chr2: 100%|███████████████████████████████| 2714/2714 [00:01<00:00, 2298.27it/s]\n",
      "chr20: 100%|████████████████████████████████| 916/916 [00:00<00:00, 2182.61it/s]\n",
      "chr14: 100%|██████████████████████████████| 1184/1184 [00:00<00:00, 2398.50it/s]\n",
      "chr10: 100%|██████████████████████████████| 1628/1628 [00:00<00:00, 2487.35it/s]\n",
      "chr12: 100%|██████████████████████████████| 1850/1850 [00:00<00:00, 1870.01it/s]\n",
      "chr4: 100%|███████████████████████████████| 1729/1729 [00:00<00:00, 2031.76it/s]\n",
      "chr19: 100%|██████████████████████████████| 1142/1142 [00:00<00:00, 2635.65it/s]\n",
      "chr11: 100%|██████████████████████████████| 1823/1823 [00:00<00:00, 2666.82it/s]\n",
      "chr7: 100%|███████████████████████████████| 1697/1697 [00:00<00:00, 2793.54it/s]\n",
      "chr5: 100%|███████████████████████████████| 1951/1951 [00:00<00:00, 2742.65it/s]\n",
      "chr18: 100%|████████████████████████████████| 781/781 [00:00<00:00, 2683.99it/s]\n",
      "chr16: 100%|██████████████████████████████| 1074/1074 [00:00<00:00, 2831.37it/s]\n",
      "chr13: 100%|████████████████████████████████| 859/859 [00:00<00:00, 2903.03it/s]\n",
      "chr1: 100%|███████████████████████████████| 3182/3182 [00:01<00:00, 1995.77it/s]\n",
      "chr21: 100%|████████████████████████████████| 333/333 [00:00<00:00, 2329.90it/s]\n",
      "chr6: 100%|███████████████████████████████| 2149/2149 [00:01<00:00, 1828.25it/s]\n",
      "chr22: 100%|████████████████████████████████| 607/607 [00:00<00:00, 2790.27it/s]\n",
      "chr8: 100%|███████████████████████████████| 1566/1566 [00:00<00:00, 1942.67it/s]\n",
      "chr9: 100%|███████████████████████████████| 1375/1375 [00:00<00:00, 1745.15it/s]\n",
      "chrX: 100%|███████████████████████████████| 1164/1164 [00:00<00:00, 1444.85it/s]\n",
      "chr15: 100%|██████████████████████████████| 1145/1145 [00:00<00:00, 2671.32it/s]\n",
      "chr17: 100%|██████████████████████████████| 1435/1435 [00:00<00:00, 2549.79it/s]\n",
      "chrUn_GL000219v1: 0it [00:00, ?it/s]\n",
      "chr17_GL000205v2_random: 0it [00:00, ?it/s]\n",
      "chr1_KI270714v1_random: 0it [00:00, ?it/s]\n"
     ]
    }
   ],
   "source": [
    "hic_rad21_match = []\n",
    "for chri in ctcf_chip_seq['char'].unique():\n",
    "    hic_rad21_match = hic_rad21_match + find_peaks_for_chr(chri, rad21_chip_seq, hi_c_loops, 10**4*2)"
   ]
  },
  {
   "cell_type": "code",
   "execution_count": 171,
   "id": "8f2707c4",
   "metadata": {},
   "outputs": [
    {
     "data": {
      "text/plain": [
       "14457"
      ]
     },
     "execution_count": 171,
     "metadata": {},
     "output_type": "execute_result"
    }
   ],
   "source": [
    "len(hic_rad21_match)"
   ]
  },
  {
   "cell_type": "code",
   "execution_count": 183,
   "id": "5d2d8945",
   "metadata": {},
   "outputs": [
    {
     "data": {
      "text/plain": [
       "3464"
      ]
     },
     "execution_count": 183,
     "metadata": {},
     "output_type": "execute_result"
    }
   ],
   "source": [
    "(~np.isin( hic_ctcf_match, hic_rad21_match)).sum() + (~np.isin( hic_rad21_match, hic_ctcf_match)).sum()"
   ]
  },
  {
   "cell_type": "code",
   "execution_count": 184,
   "id": "1fa5ca25",
   "metadata": {},
   "outputs": [],
   "source": [
    "hi_c_loops['rad21'] = 0\n",
    "hi_c_loops.iloc[ hic_rad21_match, hi_c_loops.columns.values.tolist().index('rad21')] = 1"
   ]
  },
  {
   "cell_type": "code",
   "execution_count": 185,
   "id": "e3347c2f",
   "metadata": {},
   "outputs": [
    {
     "data": {
      "text/plain": [
       "94.90579662574673"
      ]
     },
     "execution_count": 185,
     "metadata": {},
     "output_type": "execute_result"
    }
   ],
   "source": [
    "len(hic_rad21_match)/hi_c_loops.shape[0]*100"
   ]
  },
  {
   "cell_type": "code",
   "execution_count": 186,
   "id": "2ef9cf5f",
   "metadata": {},
   "outputs": [
    {
     "data": {
      "image/png": "[encoded data removed]",
      "text/plain": [
       "<Figure size 576x288 with 1 Axes>"
      ]
     },
     "metadata": {
      "needs_background": "light"
     },
     "output_type": "display_data"
    }
   ],
   "source": [
    "hi_c_loops.groupby('char1').agg(n=('rad21', 'sum')).plot(kind='bar', figsize=(8,4))\n",
    "plt.title('Loops confirmed using Rad21')\n",
    "plt.xlabel('chromosome')\n",
    "plt.ylabel('number of loops starting there')\n",
    "plt.savefig('hic_pet_rad21.png')"
   ]
  },
  {
   "cell_type": "code",
   "execution_count": 188,
   "id": "92628489",
   "metadata": {},
   "outputs": [
    {
     "data": {
      "text/plain": [
       "(3464, 8)"
      ]
     },
     "execution_count": 188,
     "metadata": {},
     "output_type": "execute_result"
    }
   ],
   "source": [
    "hi_c_loops[hi_c_loops['ctcf'] != hi_c_loops['rad21']].shape"
   ]
  },
  {
   "cell_type": "markdown",
   "id": "9829ca3a",
   "metadata": {},
   "source": [
    "## Compare botch approaches"
   ]
  },
  {
   "cell_type": "code",
   "execution_count": 189,
   "id": "85b610b6",
   "metadata": {},
   "outputs": [
    {
     "data": {
      "text/plain": [
       "(15233, 8)"
      ]
     },
     "execution_count": 189,
     "metadata": {},
     "output_type": "execute_result"
    }
   ],
   "source": [
    "hi_c_loops.shape"
   ]
  },
  {
   "cell_type": "code",
   "execution_count": 190,
   "id": "7fc79b77",
   "metadata": {},
   "outputs": [
    {
     "data": {
      "text/plain": [
       "(44455464, 8)"
      ]
     },
     "execution_count": 190,
     "metadata": {},
     "output_type": "execute_result"
    }
   ],
   "source": [
    "chia_pet_loops.shape"
   ]
  },
  {
   "cell_type": "code",
   "execution_count": 192,
   "id": "7f548706",
   "metadata": {},
   "outputs": [
    {
     "name": "stderr",
     "output_type": "stream",
     "text": [
      "chr3: 100%|██████████████████████████████████| 791/791 [00:07<00:00, 109.57it/s]\n",
      "chr2: 100%|███████████████████████████████████| 873/873 [00:10<00:00, 86.83it/s]\n",
      "chr20: 100%|█████████████████████████████████| 304/304 [00:00<00:00, 344.91it/s]\n",
      "chr14: 100%|█████████████████████████████████| 391/391 [00:01<00:00, 209.17it/s]\n",
      "chr10: 100%|█████████████████████████████████| 546/546 [00:03<00:00, 152.97it/s]\n",
      "chr12: 100%|█████████████████████████████████| 637/637 [00:04<00:00, 147.95it/s]\n",
      "chr4: 100%|██████████████████████████████████| 640/640 [00:05<00:00, 113.08it/s]\n",
      "chr19: 100%|█████████████████████████████████| 358/358 [00:01<00:00, 333.08it/s]\n",
      "chr11: 100%|█████████████████████████████████| 614/614 [00:04<00:00, 149.03it/s]\n",
      "chr7: 100%|██████████████████████████████████| 567/567 [00:03<00:00, 143.17it/s]\n",
      "chr5: 100%|██████████████████████████████████| 620/620 [00:04<00:00, 125.19it/s]\n",
      "chr18: 100%|█████████████████████████████████| 262/262 [00:01<00:00, 258.66it/s]\n",
      "chr16: 100%|█████████████████████████████████| 298/298 [00:00<00:00, 310.17it/s]\n",
      "chr13: 100%|█████████████████████████████████| 294/294 [00:01<00:00, 236.20it/s]\n",
      "chr1: 100%|█████████████████████████████████| 1134/1134 [00:14<00:00, 80.42it/s]\n",
      "chr21: 100%|███████████████████████████████████| 85/85 [00:00<00:00, 554.65it/s]\n",
      "chr6: 100%|██████████████████████████████████| 718/718 [00:06<00:00, 111.74it/s]\n",
      "chr22: 100%|█████████████████████████████████| 174/174 [00:00<00:00, 611.11it/s]\n",
      "chr8: 100%|██████████████████████████████████| 564/564 [00:03<00:00, 145.99it/s]\n",
      "chr9: 100%|██████████████████████████████████| 470/470 [00:02<00:00, 208.86it/s]\n",
      "chrX: 100%|██████████████████████████████████| 316/316 [00:01<00:00, 170.90it/s]\n",
      "chr15: 100%|█████████████████████████████████| 366/366 [00:01<00:00, 239.60it/s]\n",
      "chr17: 100%|█████████████████████████████████| 427/427 [00:01<00:00, 274.53it/s]\n",
      "chrUn_GL000219v1: 0it [00:00, ?it/s]\n",
      "chr17_GL000205v2_random: 0it [00:00, ?it/s]\n",
      "chr1_KI270714v1_random: 0it [00:00, ?it/s]\n"
     ]
    }
   ],
   "source": [
    "ctcf_match = []\n",
    "\n",
    "for chri in ctcf_chip_seq['char'].unique():\n",
    "    # look where hi-c was matched\n",
    "    hi_c_tmp = hi_c_loops[(hi_c_loops['char1']==chri)&(hi_c_loops['ctcf']==1)]\n",
    "    intervals_hic = pd.arrays.IntervalArray.from_arrays(\n",
    "        hi_c_tmp['x1'].values, \n",
    "        hi_c_tmp['x2'].values, closed='both')\n",
    "\n",
    "    chia_tmp = chia_pet_loops[chia_pet_loops['char1']==chri]\n",
    "    intervals_chia = pd.arrays.IntervalArray.from_arrays(\n",
    "        chia_tmp['x1'].values, \n",
    "        chia_tmp['x2'].values, closed='both')\n",
    "    \n",
    "    chia_tmp['ctcf_hic'] = False\n",
    "    \n",
    "    for p in tqdm(intervals_hic, desc=chri, leave=True):\n",
    "        chia_tmp.loc[:, 'ctcf_hic'] = chia_tmp['ctcf_hic'] | intervals_chia.overlaps(p)\n",
    "        \n",
    "    ctcf_match = ctcf_match + chia_tmp[chia_tmp['ctcf_hic']].index.values.tolist()"
   ]
  },
  {
   "cell_type": "code",
   "execution_count": 194,
   "id": "04f62c46",
   "metadata": {},
   "outputs": [],
   "source": [
    "chia_pet_loops['ctcf_hic'] = 0\n",
    "chia_pet_loops.iloc[ ctcf_match, chia_pet_loops.columns.values.tolist().index('ctcf_hic')] = 1"
   ]
  },
  {
   "cell_type": "code",
   "execution_count": 193,
   "id": "08874805",
   "metadata": {},
   "outputs": [
    {
     "name": "stderr",
     "output_type": "stream",
     "text": [
      "chr3: 100%|█████████████████████████████████| 1008/1008 [00:10<00:00, 96.72it/s]\n",
      "chr2: 100%|█████████████████████████████████| 1131/1131 [00:12<00:00, 91.37it/s]\n",
      "chr20: 100%|█████████████████████████████████| 380/380 [00:01<00:00, 357.09it/s]\n",
      "chr14: 100%|█████████████████████████████████| 501/501 [00:02<00:00, 230.87it/s]\n",
      "chr10: 100%|█████████████████████████████████| 675/675 [00:04<00:00, 155.40it/s]\n",
      "chr12: 100%|█████████████████████████████████| 797/797 [00:05<00:00, 142.15it/s]\n",
      "chr4: 100%|██████████████████████████████████| 799/799 [00:06<00:00, 120.12it/s]\n",
      "chr19: 100%|█████████████████████████████████| 409/409 [00:00<00:00, 421.90it/s]\n",
      "chr11: 100%|█████████████████████████████████| 772/772 [00:05<00:00, 152.89it/s]\n",
      "chr7: 100%|██████████████████████████████████| 731/731 [00:05<00:00, 138.05it/s]\n",
      "chr5: 100%|██████████████████████████████████| 822/822 [00:06<00:00, 118.30it/s]\n",
      "chr18: 100%|█████████████████████████████████| 340/340 [00:01<00:00, 243.75it/s]\n",
      "chr16: 100%|█████████████████████████████████| 374/374 [00:01<00:00, 244.86it/s]\n",
      "chr13: 100%|█████████████████████████████████| 373/373 [00:01<00:00, 210.94it/s]\n",
      "chr1: 100%|█████████████████████████████████| 1394/1394 [00:15<00:00, 89.02it/s]\n",
      "chr21: 100%|█████████████████████████████████| 118/118 [00:00<00:00, 739.61it/s]\n",
      "chr6: 100%|██████████████████████████████████| 916/916 [00:08<00:00, 113.90it/s]\n",
      "chr22: 100%|█████████████████████████████████| 215/215 [00:00<00:00, 607.95it/s]\n",
      "chr8: 100%|██████████████████████████████████| 719/719 [00:05<00:00, 142.68it/s]\n",
      "chr9: 100%|██████████████████████████████████| 579/579 [00:03<00:00, 183.16it/s]\n",
      "chrX: 100%|██████████████████████████████████| 398/398 [00:02<00:00, 154.60it/s]\n",
      "chr15: 100%|█████████████████████████████████| 459/459 [00:02<00:00, 217.67it/s]\n",
      "chr17: 100%|█████████████████████████████████| 547/547 [00:02<00:00, 248.96it/s]\n",
      "chrUn_GL000219v1: 0it [00:00, ?it/s]\n",
      "chr17_GL000205v2_random: 0it [00:00, ?it/s]\n",
      "chr1_KI270714v1_random: 0it [00:00, ?it/s]\n"
     ]
    }
   ],
   "source": [
    "rad21_match = []\n",
    "\n",
    "for chri in ctcf_chip_seq['char'].unique():\n",
    "    # look where hi-c was matched\n",
    "    hi_c_tmp = hi_c_loops[(hi_c_loops['char1']==chri)&(hi_c_loops['rad21']==1)]\n",
    "    intervals_hic = pd.arrays.IntervalArray.from_arrays(\n",
    "        hi_c_tmp['x1'].values, \n",
    "        hi_c_tmp['x2'].values, closed='both')\n",
    "\n",
    "    chia_tmp = chia_pet_loops[chia_pet_loops['char1']==chri]\n",
    "    intervals_chia = pd.arrays.IntervalArray.from_arrays(\n",
    "        chia_tmp['x1'].values, \n",
    "        chia_tmp['x2'].values, closed='both')\n",
    "    \n",
    "    chia_tmp['rad21_hic'] = False\n",
    "    \n",
    "    for p in tqdm(intervals_hic, desc=chri, leave=True):\n",
    "        chia_tmp.loc[:, 'rad21_hic'] = chia_tmp['rad21_hic'] | intervals_chia.overlaps(p)\n",
    "        \n",
    "    rad21_match = rad21_match + chia_tmp[chia_tmp['rad21_hic']].index.values.tolist()"
   ]
  },
  {
   "cell_type": "code",
   "execution_count": 195,
   "id": "d35d7d1a",
   "metadata": {},
   "outputs": [],
   "source": [
    "chia_pet_loops['rad21_hic'] = 0\n",
    "chia_pet_loops.iloc[ rad21_match, chia_pet_loops.columns.values.tolist().index('rad21_hic')] = 1"
   ]
  },
  {
   "cell_type": "code",
   "execution_count": 198,
   "id": "cce3887c",
   "metadata": {},
   "outputs": [
    {
     "data": {
      "text/plain": [
       "(1023963, 10)"
      ]
     },
     "execution_count": 198,
     "metadata": {},
     "output_type": "execute_result"
    }
   ],
   "source": [
    "chia_pet_loops[\n",
    "    (chia_pet_loops['ctcf'] == chia_pet_loops['ctcf_hic']) &\n",
    "    (chia_pet_loops['ctcf_hic'] == 1)\n",
    "].shape"
   ]
  },
  {
   "cell_type": "code",
   "execution_count": 199,
   "id": "53bc3ada",
   "metadata": {},
   "outputs": [
    {
     "data": {
      "text/plain": [
       "(971662, 10)"
      ]
     },
     "execution_count": 199,
     "metadata": {},
     "output_type": "execute_result"
    }
   ],
   "source": [
    "chia_pet_loops[\n",
    "    (chia_pet_loops['rad21'] == chia_pet_loops['rad21_hic']) &\n",
    "    (chia_pet_loops['rad21_hic'] == 1)\n",
    "].shape"
   ]
  },
  {
   "cell_type": "code",
   "execution_count": 200,
   "id": "404350eb",
   "metadata": {},
   "outputs": [
    {
     "data": {
      "text/plain": [
       "0.40166989308683093"
      ]
     },
     "execution_count": 200,
     "metadata": {},
     "output_type": "execute_result"
    }
   ],
   "source": [
    "1023963/2549265"
   ]
  },
  {
   "cell_type": "code",
   "execution_count": 201,
   "id": "98b54c0f",
   "metadata": {},
   "outputs": [
    {
     "data": {
      "text/plain": [
       "0.3811537835415306"
      ]
     },
     "execution_count": 201,
     "metadata": {},
     "output_type": "execute_result"
    }
   ],
   "source": [
    "971662/2549265 "
   ]
  },
  {
   "cell_type": "code",
   "execution_count": null,
   "id": "5500e53d",
   "metadata": {},
   "outputs": [],
   "source": []
  }
 ],
 "metadata": {
  "kernelspec": {
   "display_name": "Python 3 (ipykernel)",
   "language": "python",
   "name": "python3"
  },
  "language_info": {
   "codemirror_mode": {
    "name": "ipython",
    "version": 3
   },
   "file_extension": ".py",
   "mimetype": "text/x-python",
   "name": "python",
   "nbconvert_exporter": "python",
   "pygments_lexer": "ipython3",
   "version": "3.10.4"
  }
 },
 "nbformat": 4,
 "nbformat_minor": 5
}
